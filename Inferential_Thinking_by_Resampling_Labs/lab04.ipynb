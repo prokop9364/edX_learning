{
 "cells": [
  {
   "cell_type": "markdown",
   "metadata": {},
   "source": [
    "# Lab 4: Inference and Capital Punishment, Part 2\n",
    "\n",
    "Welcome to Lab 4! This week, we will continue to investigate the relationship between murder rates and capital punishment in the United States. Please complete Lab 3 before starting Lab 4.\n",
    "\n",
    "By the end of this lab, you should know how to:\n",
    "\n",
    "1. Test whether observed data appears to be a random sample from a distribution.\n",
    "2. Analyze a natural experiment.\n",
    "3. Implement and interpret a sign test.\n",
    "4. Create a function to run a general hypothesis test.\n",
    "5. Analyze visualizations and draw conclusions from them.\n",
    "\n",
    "All of the concepts necessary for this project are found in the [Inferential Thinking textbook](https://www.inferentialthinking.com/). If you are stuck on a particular problem, reading through the relevant textbook section often will help clarify the concept. \n",
    "\n",
    "To get started, load `datascience`, `numpy`, `plots`, and `gofer`."
   ]
  },
  {
   "cell_type": "code",
   "execution_count": 1,
   "metadata": {},
   "outputs": [],
   "source": [
    "from datascience import *\n",
    "import numpy as np\n",
    "\n",
    "%matplotlib inline\n",
    "import matplotlib.pyplot as plots\n",
    "plots.style.use('fivethirtyeight')\n",
    "\n",
    "#from gofer.ok import check"
   ]
  },
  {
   "cell_type": "markdown",
   "metadata": {},
   "source": [
    "## Overview: Recap\n",
    "\n",
    "In the United States, some jurisdictions execute some people who are convicted of particularly serious crimes, such as murder.  This punishment is called the *death penalty* or *capital punishment*.  The death penalty is controversial, and deterrence has been one focal point of the debate.  There are other reasons to support or oppose the death penalty, but in this project we'll focus on deterrence.\n",
    "\n",
    "The key question about deterrence is:\n",
    "\n",
    "> Through our exploration, does instituting a death penalty for murder actually reduce the number of murders?\n",
    "\n",
    "You might have a strong intuition in one direction, but the evidence turns out to be surprisingly complex.  Different sides have variously argued that the death penalty has no deterrent effect and that each execution prevents 8 murders, all using statistical arguments!  We'll try to come to our own conclusion.\n",
    "\n",
    "In Lab 3, we completed the following tasks:\n",
    "\n",
    "1. In section 1, we explored the data.\n",
    "2. In section 2, we tested a null hypothesis that murder rates were equally likely to go up or down each year, as if by a flip of a fair coin.\n",
    "\n",
    "**If you do not remember lab 3, we highly recommend you go back and review it now. It will help you for this lab. **\n",
    "\n",
    "In Lab 4, we will complete the following tasks:\n",
    "\n",
    "1. In section 3, we'll apply a similar test to see whether U.S. states that suddenly ended or reinstituted the death penalty were more likely to see murder rates increase than decrease.\n",
    "2. In section 4, we'll run some more tests to support claims that we had been investigating in previous sections. \n",
    "3. In section 5, we'll try to answer our question about deterrence using a visualization rather than a formal hypothesis test.\n",
    "\n",
    "#### The data\n",
    "\n",
    "The main data source for this project comes from a [paper](http://cjlf.org/deathpenalty/DezRubShepDeterFinal.pdf) by three researchers, Dezhbakhsh, Rubin, and Shepherd.  The dataset contains rates of various violent crimes for every year 1960-2003 (44 years) in every US state.  The researchers compiled the data from the FBI's Uniform Crime Reports.\n",
    "\n",
    "Since crimes are committed by people, not states, we need to account for the number of people in each state when we're looking at state-level data.  Murder rates are calculated as follows:\n",
    "\n",
    "$$\\text{murder rate for state X in year Y} = \\frac{\\text{number of murders in state X in year Y}}{\\text{population in state X in year Y}}*100000$$\n",
    "\n",
    "(Murder is rare, so we multiply by 100,000 just to avoid dealing with tiny numbers.)"
   ]
  },
  {
   "cell_type": "code",
   "execution_count": 2,
   "metadata": {},
   "outputs": [],
   "source": [
    "murder_rates = Table.read_table('crime_rates.csv').select('State', 'Year', 'Population', 'Murder Rate')\n",
    "murder_rates.set_format(\"Population\", NumberFormatter)\n",
    "\n",
    "def diff_n(values, n):\n",
    "    return np.array(values)[n:] - np.array(values)[:-n]\n",
    "\n",
    "def two_year_changes(rates):\n",
    "    \"Return the number of increases minus the number of decreases after two years.\"\n",
    "    return np.count_nonzero(diff_n(rates, 2) > 0) - np.count_nonzero(diff_n(rates, 2) < 0)"
   ]
  },
  {
   "cell_type": "markdown",
   "metadata": {},
   "source": [
    "As a reminder of our hypothesis test, here are the null hypothesis, alternative hypothesis, and test statistic from lab 3.\n",
    "\n",
    "> **Null Hypothesis**: State murder rates increase and decrease over two-year periods as if \n",
    "\"increase\" or \"decrease\" were sampled at random from a uniform distribution, like a fair coin flip.\n",
    "\n",
    "> **Alternative Hypothesis**: State murder rates are more likely to increase over two-year periods.\n",
    "\n",
    "> **Test Statistic**: The number of increases minus the number of decreases"
   ]
  },
  {
   "cell_type": "markdown",
   "metadata": {},
   "source": [
    "## 1. The death penalty\n",
    "\n",
    "Some US states have the death penalty, and others don't, and laws have changed over time. In addition to changes in murder rates, we will also consider whether the death penalty was in force in each state and each year.\n",
    "\n",
    "Using this information, we would like to investigate how the presence of the death penalty affects the murder rate of a state."
   ]
  },
  {
   "cell_type": "markdown",
   "metadata": {},
   "source": [
    "**Question 1.1.** <br/>Describe this investigation in terms of an experiment. What population are we studying? What is the control group? What is the treatment group? What outcome are we measuring? Be precise!"
   ]
  },
  {
   "cell_type": "markdown",
   "metadata": {
    "for_assignment_type": "student",
    "manual_problem_id": "death_penalty_1"
   },
   "source": [
    "*Write your answers below.*\n",
    "\n",
    "- Population: ...\n",
    "- Control Group: ...\n",
    "- Treatment Group: ...\n",
    "- Outcome: ..."
   ]
  },
  {
   "cell_type": "markdown",
   "metadata": {},
   "source": [
    "**Question 1.2.** <br/>We want to know whether the death penalty *causes* a change in the murder rate.  Why is it not sufficient to compare murder rates in places and times when the death penalty was in force with places and times when it wasn't?"
   ]
  },
  {
   "cell_type": "markdown",
   "metadata": {
    "manual_problem_id": "death_penalty_2"
   },
   "source": [
    "*Write your answer here, replacing this text.*"
   ]
  },
  {
   "cell_type": "markdown",
   "metadata": {},
   "source": [
    "**Your answers for Questions 1.1 and 1.2 are not graded. To check your answers, go onto the edX discussion forum for lab 4 and check your answers with other students!**"
   ]
  },
  {
   "cell_type": "markdown",
   "metadata": {},
   "source": [
    "### A Natural Experiment\n",
    "\n",
    "In order to attempt to investigate the causal relationship between the death penalty and murder rates, we're going to take advantage of a *natural experiment*.  A natural experiment happens when something other than experimental design applies a treatment to one group and not to another (control) group, and we have some hope that the treatment and control groups don't have any other systematic differences.\n",
    "\n",
    "Our natural experiment is this: in 1972, a Supreme Court decision called *Furman v. Georgia* banned the death penalty throughout the US.  Suddenly, many states went from having the death penalty to not having the death penalty.\n",
    "\n",
    "As a first step, let's see how murder rates changed before and after the court decision.  We'll define the test as follows:\n",
    "\n",
    "> **Population:** All the states that had the death penalty before the 1972 abolition.  (There is no control group for the states that already lacked the death penalty in 1972, so we must omit them.)  This includes all US states **except** Alaska, Hawaii, Maine, Michigan, Wisconsin, and Minnesota.\n",
    "\n",
    "> **Treatment group:** The states in that population, in the year after 1972.\n",
    "\n",
    "> **Control group:** The states in that population, in the year before 1972.\n",
    "\n",
    "> **Null hypothesis:** Each state's murder rate was equally likely to be higher or lower in the treatment period than in the control period.  (Whether the murder rate increased or decreased in each state was like the flip of a fair coin.)\n",
    "\n",
    "> **Alternative hypothesis:** The murder rate was more likely to increase.\n",
    "\n",
    "Our alternative hypothesis is in keeping with our suspicion that murder rates increase when the death penalty is eliminated.  \n",
    "\n",
    "*Technical Note:* It's not clear that the murder rates were a \"sample\" from any larger population.  Again, it's useful to imagine that our data could have come out differently and to test the null hypothesis that the murder rates were equally likely to move up or down.\n",
    "\n",
    "The `death_penalty` table below describes whether each state allowed the death penalty in 1971."
   ]
  },
  {
   "cell_type": "code",
   "execution_count": 3,
   "metadata": {},
   "outputs": [
    {
     "data": {
      "text/html": [
       "<table border=\"1\" class=\"dataframe\">\n",
       "    <thead>\n",
       "        <tr>\n",
       "            <th>State</th> <th>Death Penalty</th>\n",
       "        </tr>\n",
       "    </thead>\n",
       "    <tbody>\n",
       "        <tr>\n",
       "            <td>Alabama    </td> <td>True         </td>\n",
       "        </tr>\n",
       "        <tr>\n",
       "            <td>Alaska     </td> <td>False        </td>\n",
       "        </tr>\n",
       "        <tr>\n",
       "            <td>Arizona    </td> <td>True         </td>\n",
       "        </tr>\n",
       "        <tr>\n",
       "            <td>Arkansas   </td> <td>True         </td>\n",
       "        </tr>\n",
       "        <tr>\n",
       "            <td>California </td> <td>True         </td>\n",
       "        </tr>\n",
       "        <tr>\n",
       "            <td>Colorado   </td> <td>True         </td>\n",
       "        </tr>\n",
       "        <tr>\n",
       "            <td>Connecticut</td> <td>True         </td>\n",
       "        </tr>\n",
       "        <tr>\n",
       "            <td>Delaware   </td> <td>True         </td>\n",
       "        </tr>\n",
       "        <tr>\n",
       "            <td>Florida    </td> <td>True         </td>\n",
       "        </tr>\n",
       "        <tr>\n",
       "            <td>Georgia    </td> <td>True         </td>\n",
       "        </tr>\n",
       "    </tbody>\n",
       "</table>\n",
       "<p>... (40 rows omitted)</p>"
      ],
      "text/plain": [
       "State       | Death Penalty\n",
       "Alabama     | True\n",
       "Alaska      | False\n",
       "Arizona     | True\n",
       "Arkansas    | True\n",
       "California  | True\n",
       "Colorado    | True\n",
       "Connecticut | True\n",
       "Delaware    | True\n",
       "Florida     | True\n",
       "Georgia     | True\n",
       "... (40 rows omitted)"
      ]
     },
     "execution_count": 3,
     "metadata": {},
     "output_type": "execute_result"
    }
   ],
   "source": [
    "non_death_penalty_states = make_array('Alaska', 'Hawaii', 'Maine', 'Michigan', 'Wisconsin', 'Minnesota')\n",
    "def had_death_penalty_in_1971(state):\n",
    "    \"\"\"Returns True if the argument is the name of a state that had the death penalty in 1971.\"\"\"\n",
    "    # The implementation of this function uses a bit of syntax\n",
    "    # we haven't seen before.  Just trust that it behaves as its\n",
    "    # documentation claims.\n",
    "    return state not in non_death_penalty_states\n",
    "\n",
    "states = murder_rates.group('State').select('State')\n",
    "death_penalty = states.with_column('Death Penalty', states.apply(had_death_penalty_in_1971, 0))\n",
    "death_penalty"
   ]
  },
  {
   "cell_type": "code",
   "execution_count": 4,
   "metadata": {},
   "outputs": [
    {
     "data": {
      "text/plain": [
       "44"
      ]
     },
     "execution_count": 4,
     "metadata": {},
     "output_type": "execute_result"
    }
   ],
   "source": [
    "num_death_penalty_states = death_penalty.where(\"Death Penalty\", are.equal_to(True)).num_rows\n",
    "num_death_penalty_states"
   ]
  },
  {
   "cell_type": "markdown",
   "metadata": {},
   "source": [
    "**Question 1.3.** <br/>Assign `death_penalty_murder_rates` to a table with the same columns and data as `murder_rates`, but that has only the rows for states that had the death penalty in 1971.\n",
    "\n",
    "The first 2 rows of your table should look like this:\n",
    "\n",
    "|State|Year|Population|Murder Rate|\n",
    "|-----|----|----------|-----------|\n",
    "|Alabama|1960|3,266,740|12.4|\n",
    "|Alabama|1961|3,302,000|12.9|"
   ]
  },
  {
   "cell_type": "code",
   "execution_count": 5,
   "metadata": {},
   "outputs": [
    {
     "data": {
      "text/html": [
       "<table border=\"1\" class=\"dataframe\">\n",
       "    <thead>\n",
       "        <tr>\n",
       "            <th>State</th> <th>Death Penalty</th>\n",
       "        </tr>\n",
       "    </thead>\n",
       "    <tbody>\n",
       "        <tr>\n",
       "            <td>Alabama    </td> <td>True         </td>\n",
       "        </tr>\n",
       "        <tr>\n",
       "            <td>Arizona    </td> <td>True         </td>\n",
       "        </tr>\n",
       "        <tr>\n",
       "            <td>Arkansas   </td> <td>True         </td>\n",
       "        </tr>\n",
       "        <tr>\n",
       "            <td>California </td> <td>True         </td>\n",
       "        </tr>\n",
       "        <tr>\n",
       "            <td>Colorado   </td> <td>True         </td>\n",
       "        </tr>\n",
       "        <tr>\n",
       "            <td>Connecticut</td> <td>True         </td>\n",
       "        </tr>\n",
       "        <tr>\n",
       "            <td>Delaware   </td> <td>True         </td>\n",
       "        </tr>\n",
       "        <tr>\n",
       "            <td>Florida    </td> <td>True         </td>\n",
       "        </tr>\n",
       "        <tr>\n",
       "            <td>Georgia    </td> <td>True         </td>\n",
       "        </tr>\n",
       "        <tr>\n",
       "            <td>Idaho      </td> <td>True         </td>\n",
       "        </tr>\n",
       "    </tbody>\n",
       "</table>\n",
       "<p>... (34 rows omitted)</p>"
      ],
      "text/plain": [
       "State       | Death Penalty\n",
       "Alabama     | True\n",
       "Arizona     | True\n",
       "Arkansas    | True\n",
       "California  | True\n",
       "Colorado    | True\n",
       "Connecticut | True\n",
       "Delaware    | True\n",
       "Florida     | True\n",
       "Georgia     | True\n",
       "Idaho       | True\n",
       "... (34 rows omitted)"
      ]
     },
     "execution_count": 5,
     "metadata": {},
     "output_type": "execute_result"
    }
   ],
   "source": [
    "death_penalty.where('Death Penalty',are.equal_to(True))"
   ]
  },
  {
   "cell_type": "code",
   "execution_count": 6,
   "metadata": {
    "for_assignment_type": "student"
   },
   "outputs": [
    {
     "data": {
      "text/html": [
       "<table border=\"1\" class=\"dataframe\">\n",
       "    <thead>\n",
       "        <tr>\n",
       "            <th>State</th> <th>Year</th> <th>Population</th> <th>Murder Rate</th>\n",
       "        </tr>\n",
       "    </thead>\n",
       "    <tbody>\n",
       "        <tr>\n",
       "            <td>Alabama</td> <td>1960</td> <td>3,266,740 </td> <td>12.4       </td>\n",
       "        </tr>\n",
       "        <tr>\n",
       "            <td>Alabama</td> <td>1961</td> <td>3,302,000 </td> <td>12.9       </td>\n",
       "        </tr>\n",
       "        <tr>\n",
       "            <td>Alabama</td> <td>1962</td> <td>3,358,000 </td> <td>9.4        </td>\n",
       "        </tr>\n",
       "        <tr>\n",
       "            <td>Alabama</td> <td>1963</td> <td>3,347,000 </td> <td>10.2       </td>\n",
       "        </tr>\n",
       "        <tr>\n",
       "            <td>Alabama</td> <td>1964</td> <td>3,407,000 </td> <td>9.3        </td>\n",
       "        </tr>\n",
       "        <tr>\n",
       "            <td>Alabama</td> <td>1965</td> <td>3,462,000 </td> <td>11.4       </td>\n",
       "        </tr>\n",
       "        <tr>\n",
       "            <td>Alabama</td> <td>1966</td> <td>3,517,000 </td> <td>10.9       </td>\n",
       "        </tr>\n",
       "        <tr>\n",
       "            <td>Alabama</td> <td>1967</td> <td>3,540,000 </td> <td>11.7       </td>\n",
       "        </tr>\n",
       "        <tr>\n",
       "            <td>Alabama</td> <td>1968</td> <td>3,566,000 </td> <td>11.8       </td>\n",
       "        </tr>\n",
       "        <tr>\n",
       "            <td>Alabama</td> <td>1969</td> <td>3,531,000 </td> <td>13.7       </td>\n",
       "        </tr>\n",
       "    </tbody>\n",
       "</table>\n",
       "<p>... (1926 rows omitted)</p>"
      ],
      "text/plain": [
       "State   | Year | Population | Murder Rate\n",
       "Alabama | 1960 | 3,266,740  | 12.4\n",
       "Alabama | 1961 | 3,302,000  | 12.9\n",
       "Alabama | 1962 | 3,358,000  | 9.4\n",
       "Alabama | 1963 | 3,347,000  | 10.2\n",
       "Alabama | 1964 | 3,407,000  | 9.3\n",
       "Alabama | 1965 | 3,462,000  | 11.4\n",
       "Alabama | 1966 | 3,517,000  | 10.9\n",
       "Alabama | 1967 | 3,540,000  | 11.7\n",
       "Alabama | 1968 | 3,566,000  | 11.8\n",
       "Alabama | 1969 | 3,531,000  | 13.7\n",
       "... (1926 rows omitted)"
      ]
     },
     "execution_count": 6,
     "metadata": {},
     "output_type": "execute_result"
    }
   ],
   "source": [
    "death_penalty_murder_rates = murder_rates.where('State',are.contained_in(death_penalty.where('Death Penalty',are.equal_to(True)).column('State')))\n",
    "death_penalty_murder_rates"
   ]
  },
  {
   "cell_type": "code",
   "execution_count": 7,
   "metadata": {},
   "outputs": [],
   "source": [
    "#check(\"tests/q1_3.py\")"
   ]
  },
  {
   "cell_type": "markdown",
   "metadata": {},
   "source": [
    "The null hypothesis doesn't specify *how* the murder rate changes; it only talks about increasing or decreasing.  So, we will use the same test statistic we defined in lab 3."
   ]
  },
  {
   "cell_type": "markdown",
   "metadata": {},
   "source": [
    "**Question 1.4.** <br/>Assign `test_stat_72` to the value of the test statistic for the years 1971 to 1973 using the states in `death_penalty_murder_rates`. As before, the test statistic is, \"the number of increases minus the number of decreases.\"\n",
    "\n",
    "*Hint:* It may be helpful to use multiple lines to work through each part of your solution. One way to proceed is to `group` using your `two_year_changes` function on a table that contains only the range of years you care about."
   ]
  },
  {
   "cell_type": "code",
   "execution_count": 8,
   "metadata": {},
   "outputs": [
    {
     "data": {
      "text/html": [
       "<table border=\"1\" class=\"dataframe\">\n",
       "    <thead>\n",
       "        <tr>\n",
       "            <th>State</th> <th>Year</th> <th>Population</th> <th>Murder Rate</th>\n",
       "        </tr>\n",
       "    </thead>\n",
       "    <tbody>\n",
       "        <tr>\n",
       "            <td>Alabama   </td> <td>1971</td> <td>3,479,000 </td> <td>15.1       </td>\n",
       "        </tr>\n",
       "        <tr>\n",
       "            <td>Alabama   </td> <td>1972</td> <td>3,510,000 </td> <td>14.1       </td>\n",
       "        </tr>\n",
       "        <tr>\n",
       "            <td>Alabama   </td> <td>1973</td> <td>3,539,000 </td> <td>13.2       </td>\n",
       "        </tr>\n",
       "        <tr>\n",
       "            <td>Arkansas  </td> <td>1971</td> <td>1,944,000 </td> <td>10.5       </td>\n",
       "        </tr>\n",
       "        <tr>\n",
       "            <td>Arkansas  </td> <td>1972</td> <td>1,978,000 </td> <td>10.4       </td>\n",
       "        </tr>\n",
       "        <tr>\n",
       "            <td>Arkansas  </td> <td>1973</td> <td>2,037,000 </td> <td>8.8        </td>\n",
       "        </tr>\n",
       "        <tr>\n",
       "            <td>Arizona   </td> <td>1971</td> <td>1,849,000 </td> <td>6.7        </td>\n",
       "        </tr>\n",
       "        <tr>\n",
       "            <td>Arizona   </td> <td>1972</td> <td>1,945,000 </td> <td>7.3        </td>\n",
       "        </tr>\n",
       "        <tr>\n",
       "            <td>Arizona   </td> <td>1973</td> <td>2,058,000 </td> <td>8.1        </td>\n",
       "        </tr>\n",
       "        <tr>\n",
       "            <td>California</td> <td>1971</td> <td>20,223,000</td> <td>8.1        </td>\n",
       "        </tr>\n",
       "    </tbody>\n",
       "</table>\n",
       "<p>... (122 rows omitted)</p>"
      ],
      "text/plain": [
       "State      | Year | Population | Murder Rate\n",
       "Alabama    | 1971 | 3,479,000  | 15.1\n",
       "Alabama    | 1972 | 3,510,000  | 14.1\n",
       "Alabama    | 1973 | 3,539,000  | 13.2\n",
       "Arkansas   | 1971 | 1,944,000  | 10.5\n",
       "Arkansas   | 1972 | 1,978,000  | 10.4\n",
       "Arkansas   | 1973 | 2,037,000  | 8.8\n",
       "Arizona    | 1971 | 1,849,000  | 6.7\n",
       "Arizona    | 1972 | 1,945,000  | 7.3\n",
       "Arizona    | 1973 | 2,058,000  | 8.1\n",
       "California | 1971 | 20,223,000 | 8.1\n",
       "... (122 rows omitted)"
      ]
     },
     "execution_count": 8,
     "metadata": {},
     "output_type": "execute_result"
    }
   ],
   "source": [
    "death_penalty_states = death_penalty_murder_rates.sort(\"State\", distinct = True).column('State')\n",
    "death_penalty_murder_rates.where('Year', are.between_or_equal_to(1971, 1973))"
   ]
  },
  {
   "cell_type": "code",
   "execution_count": 9,
   "metadata": {},
   "outputs": [
    {
     "name": "stdout",
     "output_type": "stream",
     "text": [
      "State      | Year | Population | Murder Rate\n",
      "Alabama    | 1971 | 3,479,000  | 15.1\n",
      "Alabama    | 1972 | 3,510,000  | 14.1\n",
      "Alabama    | 1973 | 3,539,000  | 13.2\n",
      "Arkansas   | 1971 | 1,944,000  | 10.5\n",
      "Arkansas   | 1972 | 1,978,000  | 10.4\n",
      "Arkansas   | 1973 | 2,037,000  | 8.8\n",
      "Arizona    | 1971 | 1,849,000  | 6.7\n",
      "Arizona    | 1972 | 1,945,000  | 7.3\n",
      "Arizona    | 1973 | 2,058,000  | 8.1\n",
      "California | 1971 | 20,223,000 | 8.1\n",
      "... (122 rows omitted)\n",
      "State      | Murder Rate\n",
      "Alabama    | 15.1\n",
      "Alabama    | 14.1\n",
      "Alabama    | 13.2\n",
      "Arkansas   | 10.5\n",
      "Arkansas   | 10.4\n",
      "Arkansas   | 8.8\n",
      "Arizona    | 6.7\n",
      "Arizona    | 7.3\n",
      "Arizona    | 8.1\n",
      "California | 8.1\n",
      "... (122 rows omitted)\n",
      "State       | Murder Rate two_year_changes\n",
      "Alabama     | -1\n",
      "Arizona     | 1\n",
      "Arkansas    | -1\n",
      "California  | 1\n",
      "Colorado    | 1\n",
      "Connecticut | 1\n",
      "Delaware    | -1\n",
      "Florida     | 1\n",
      "Georgia     | 1\n",
      "Idaho       | -1\n",
      "... (34 rows omitted)\n",
      "22\n"
     ]
    }
   ],
   "source": [
    "mr71_73 = death_penalty_murder_rates.where('Year', are.between_or_equal_to(1971, 1973))\n",
    "print(mr71_73)\n",
    "mr71_73_state = mr71_73.select('State','Murder Rate')\n",
    "print(mr71_73_state)\n",
    "mr71_73_state_group = mr71_73_state.group('State',two_year_changes)\n",
    "print(mr71_73_state_group)\n",
    "print(sum(mr71_73_state_group.column(1)))"
   ]
  },
  {
   "cell_type": "code",
   "execution_count": 10,
   "metadata": {
    "for_assignment_type": "student"
   },
   "outputs": [
    {
     "data": {
      "text/plain": [
       "22"
      ]
     },
     "execution_count": 10,
     "metadata": {},
     "output_type": "execute_result"
    }
   ],
   "source": [
    "#test_stat_72 = two_year_changes(death_penalty_murder_rates.where('Year', are.between_or_equal_to(1971, 1973)).column('Murder Rate'))\n",
    "#print('Test statistic from 1971 to 1973:', test_stat_72)\n",
    "# this is wrong. this does the overall change, not the sum by state.\n",
    "# this does not discriminate between states whent the state changes, so it thinks it's ANY two row period\n",
    "# but some two row period has more than one state\n",
    "test_stat_72 = sum(death_penalty_murder_rates.where('Year', are.between_or_equal_to(1971, 1973))\n",
    "                              .select('State', 'Murder Rate').group('State', two_year_changes).column(1))\n",
    "test_stat_72"
   ]
  },
  {
   "cell_type": "code",
   "execution_count": 11,
   "metadata": {},
   "outputs": [],
   "source": [
    "#check(\"tests/q1_4.py\")"
   ]
  },
  {
   "cell_type": "markdown",
   "metadata": {},
   "source": [
    "**Question 1.5.** <br/>Draw an empirical histogram of the statistic under the null hypothesis by simulating the test statistic 10,000 times.\n",
    "\n",
    "*Hint:* You may find the `simulate_under_null` function from lab 3 useful."
   ]
  },
  {
   "cell_type": "code",
   "execution_count": 12,
   "metadata": {},
   "outputs": [],
   "source": [
    "def simulate_under_null(num_chances_to_change):\n",
    "    \"\"\"Simulates some number changing several times, with an equal\n",
    "    chance to increase or decrease.  Returns the value of your\n",
    "    test statistic for these simulated changes.\n",
    "    \n",
    "    num_chances_to_change is the number of times the number changes.\n",
    "    \"\"\"\n",
    "    uniform = Table().with_columns(\n",
    "        \"Change\", make_array('Increase', 'Decrease'),\n",
    "        \"Chance\", make_array(0.5,        0.5))\n",
    "    sample = uniform.sample_from_distribution('Chance', num_chances_to_change)\n",
    "    return sample.column(2).item(0) - sample.column(2).item(1)"
   ]
  },
  {
   "cell_type": "code",
   "execution_count": 13,
   "metadata": {
    "manual_problem_id": "death_penalty_5"
   },
   "outputs": [
    {
     "data": {
      "text/plain": [
       "array([-8., -4.,  4., ...,  0.,  4., -4.])"
      ]
     },
     "execution_count": 13,
     "metadata": {},
     "output_type": "execute_result"
    }
   ],
   "source": [
    "num_changes = 44\n",
    "samples = make_array()\n",
    "for i in np.arange(10000):\n",
    "    samples = np.append(samples, simulate_under_null(num_changes))\n",
    "\n",
    "samples"
   ]
  },
  {
   "cell_type": "code",
   "execution_count": 14,
   "metadata": {},
   "outputs": [
    {
     "data": {
      "image/png": "[encoded data removed]",
      "text/plain": [
       "<Figure size 432x288 with 1 Axes>"
      ]
     },
     "metadata": {},
     "output_type": "display_data"
    }
   ],
   "source": [
    "# Run this cell to draw an empirical histogram of the \n",
    "# statistic under the null hypothesis.\n",
    "Table().with_column('Test statistic under null', samples).hist(bins=np.arange(-4, 28+2, 2))"
   ]
  },
  {
   "cell_type": "markdown",
   "metadata": {},
   "source": [
    "### Conclusion\n",
    "**Question 1.6.** <br/>Complete the analysis as follows:\n",
    "1. Compute a P-value.\n",
    "2. Using a 5% P-value cutoff, draw a conclusion about the null and alternative hypotheses.\n",
    "3. Describe your findings using simple, non-technical language. What does your analysis tell you about murder rates after the death penalty was suspended? What can you claim about causation from your statistical analysis?"
   ]
  },
  {
   "cell_type": "markdown",
   "metadata": {
    "for_assignment_type": "student",
    "manual_problem_id": "death_penalty_6"
   },
   "source": [
    "**P-value:** ...\n",
    "\n",
    "**Conclusion about the hypotheses:** ...\n",
    "\n",
    "**Findings:** ..."
   ]
  },
  {
   "cell_type": "code",
   "execution_count": 15,
   "metadata": {
    "for_assignment_type": "student"
   },
   "outputs": [
    {
     "data": {
      "text/plain": [
       "0.0006"
      ]
     },
     "execution_count": 15,
     "metadata": {},
     "output_type": "execute_result"
    }
   ],
   "source": [
    "# Use this cell to compute the P-value (ungraded)\n",
    "# number of samples greater than our test statistics divided by the total number\n",
    "p = np.count_nonzero(samples>=test_stat_72)/10000\n",
    "p\n",
    "# Conclusion about the hypotheses:** Because the p-value is less than 1%, \n",
    "# it is highly statistically significant at the 1% level and we can reject the null hypothesis \n",
    "# that each state's murder rate was equally likely to be higher or lower in the treatment period \n",
    "# than in the control period and accept the alternative hypothesis.,\n",
    "   "
   ]
  },
  {
   "cell_type": "markdown",
   "metadata": {},
   "source": [
    "## 2. Further evidence\n",
    "\n",
    "So far, we have discovered evidence that when executions were outlawed, the murder rate increased in many more states than we would expect from random chance. We have also seen that across all states and all recent years, the murder rate goes up about as much as it goes down over two-year periods. \n",
    "\n",
    "These discoveries seem to support the claim that eliminating the death penalty increases the murder rate. Should we be convinced? Let's conduct some more tests to strengthen our claim.\n",
    "\n",
    "Conducting a test for this data set requires the following steps:\n",
    "\n",
    "1. Select a table containing murder rates for certain states and all years,\n",
    "2. Choose two years and compute the observed value of the test statistic,\n",
    "3. Simulate the test statistic under the null hypothesis that increases and decreases are drawn uniformly at random, then\n",
    "4. Compare the observed difference to the empirical distribution to compute a P-value."
   ]
  },
  {
   "cell_type": "markdown",
   "metadata": {},
   "source": [
    "This entire process can be expressed in a single function, called `run_test`. It takes the following arguments:\n",
    "\n",
    "- a table of murder `rates` for certain states, sorted by state and year like `murder_rates`\n",
    "- the year when the analysis starts (the comparison group is two years later)\n",
    "\n",
    "It prints out the observed test statistic and returns the P-value for this statistic under the null hypothesis.\n",
    "\n",
    "`run_test` works regardless of the direction of association in your alternative hypothesis by accounting for whether `observed_test_statistic` is negative or positive.\n",
    "\n",
    "Run the cell below to define `run_test`. Make sure you understand what it's doing and why."
   ]
  },
  {
   "cell_type": "code",
   "execution_count": 16,
   "metadata": {},
   "outputs": [
    {
     "name": "stdout",
     "output_type": "stream",
     "text": [
      "Test statistic 1971 to 1973 : 22\n"
     ]
    },
    {
     "data": {
      "text/plain": [
       "0.0004"
      ]
     },
     "execution_count": 16,
     "metadata": {},
     "output_type": "execute_result"
    }
   ],
   "source": [
    "def run_test(rates, start_year):\n",
    "    \"\"\"Prints out the observed test statistic and returns a P-value for this statistic under the null hypothesis\n",
    "    Parameters\n",
    "    ----------\n",
    "    rates : Table\n",
    "       A table of murder rates for certain states, sorted by state and year like murder_rates\n",
    "    start_year : int\n",
    "       The year when the analysis starts\n",
    "    \"\"\"\n",
    "    end_year = start_year + 2\n",
    "    observed_test_statistic = sum(rates.where('Year', are.between_or_equal_to(start_year, end_year)).select('State', 'Murder Rate').group('State', two_year_changes).column(1))\n",
    "    print('Test statistic', start_year, 'to', end_year, ':', observed_test_statistic)\n",
    "    num_states = rates.group('State').num_rows\n",
    "    \n",
    "    samples = []\n",
    "    for i in np.arange(5000):\n",
    "        samples.append(simulate_under_null(num_states))\n",
    "    samples = np.array(samples) # Convert from a list to an array\n",
    "    \n",
    "    if observed_test_statistic > 0:\n",
    "        return sum(samples >= observed_test_statistic) / len(samples)\n",
    "    elif observed_test_statistic < 0:\n",
    "        return sum(samples <= observed_test_statistic) / len(samples)\n",
    "    \n",
    "run_test(death_penalty_murder_rates, 1971)"
   ]
  },
  {
   "cell_type": "markdown",
   "metadata": {},
   "source": [
    "### The rest of the states\n",
    "\n",
    "We found a dramatic increase in murder rates for those states affected by the 1972 Supreme Court ruling, but what about the rest of the states? There were six states that had already outlawed execution at the time of the ruling.\n",
    "\n",
    "**Question 2.1.** Create a table called `non_death_penalty_murder_rates` with the same columns as `murder_rates` but only containing rows for the six states without the death penalty in 1971. Perform the same test on this table. **Then**, set `reject_null_2` to whether their murder rates were also more likely to increase from 1971 to 1973.\n",
    "\n",
    "*Hint:* Feel free to use additional lines for your solution."
   ]
  },
  {
   "cell_type": "code",
   "execution_count": 17,
   "metadata": {},
   "outputs": [
    {
     "data": {
      "text/html": [
       "<table border=\"1\" class=\"dataframe\">\n",
       "    <thead>\n",
       "        <tr>\n",
       "            <th>State</th> <th>Year</th> <th>Population</th> <th>Murder Rate</th>\n",
       "        </tr>\n",
       "    </thead>\n",
       "    <tbody>\n",
       "        <tr>\n",
       "            <td>Alaska</td> <td>1960</td> <td>226,167   </td> <td>10.2       </td>\n",
       "        </tr>\n",
       "        <tr>\n",
       "            <td>Alaska</td> <td>1961</td> <td>234,000   </td> <td>11.5       </td>\n",
       "        </tr>\n",
       "        <tr>\n",
       "            <td>Alaska</td> <td>1962</td> <td>246,000   </td> <td>4.5        </td>\n",
       "        </tr>\n",
       "        <tr>\n",
       "            <td>Alaska</td> <td>1963</td> <td>248,000   </td> <td>6.5        </td>\n",
       "        </tr>\n",
       "        <tr>\n",
       "            <td>Alaska</td> <td>1964</td> <td>250,000   </td> <td>10.4       </td>\n",
       "        </tr>\n",
       "        <tr>\n",
       "            <td>Alaska</td> <td>1965</td> <td>253,000   </td> <td>6.3        </td>\n",
       "        </tr>\n",
       "        <tr>\n",
       "            <td>Alaska</td> <td>1966</td> <td>272,000   </td> <td>12.9       </td>\n",
       "        </tr>\n",
       "        <tr>\n",
       "            <td>Alaska</td> <td>1967</td> <td>272,000   </td> <td>9.6        </td>\n",
       "        </tr>\n",
       "        <tr>\n",
       "            <td>Alaska</td> <td>1968</td> <td>277,000   </td> <td>10.5       </td>\n",
       "        </tr>\n",
       "        <tr>\n",
       "            <td>Alaska</td> <td>1969</td> <td>282,000   </td> <td>10.6       </td>\n",
       "        </tr>\n",
       "    </tbody>\n",
       "</table>\n",
       "<p>... (254 rows omitted)</p>"
      ],
      "text/plain": [
       "<IPython.core.display.HTML object>"
      ]
     },
     "metadata": {},
     "output_type": "display_data"
    }
   ],
   "source": [
    "non_death_penalty_murder_rates = murder_rates.where('State',are.contained_in(death_penalty.where('Death Penalty',are.equal_to(False)).column('State')))\n",
    "non_death_penalty_murder_rates.show(10)\n",
    "#run_test(non_death_penalty_murder_rates, 1971)"
   ]
  },
  {
   "cell_type": "code",
   "execution_count": 18,
   "metadata": {},
   "outputs": [
    {
     "name": "stdout",
     "output_type": "stream",
     "text": [
      "Test statistic 1971 to 1973 : 1\n"
     ]
    },
    {
     "data": {
      "text/plain": [
       "0.3446"
      ]
     },
     "execution_count": 18,
     "metadata": {},
     "output_type": "execute_result"
    }
   ],
   "source": [
    "run_test(non_death_penalty_murder_rates, 1971)"
   ]
  },
  {
   "cell_type": "code",
   "execution_count": 19,
   "metadata": {},
   "outputs": [],
   "source": [
    "reject_null = False"
   ]
  },
  {
   "cell_type": "code",
   "execution_count": 20,
   "metadata": {
    "scrolled": true
   },
   "outputs": [],
   "source": [
    "#check(\"tests/q2_1.py\")"
   ]
  },
  {
   "cell_type": "markdown",
   "metadata": {},
   "source": [
    "### The death penalty reinstated\n",
    "\n",
    "In 1976, the Supreme Court repealed its ban on the death penalty in its rulings on [a series of cases including Gregg v. Georgia](https://en.wikipedia.org/wiki/Gregg_v._Georgia), so the death penalty was reinstated where it was previously banned.  This generated a second natural experiment.  To the extent that the death penalty deters murder, reinstating it should decrease murder rates, just as banning it should increase them. Let's see what happened."
   ]
  },
  {
   "cell_type": "code",
   "execution_count": 21,
   "metadata": {},
   "outputs": [
    {
     "name": "stdout",
     "output_type": "stream",
     "text": [
      "Increases minus decreases from 1975 to 1977 (when the death penalty was reinstated) among death penalty states: -18\n",
      "Test statistic 1975 to 1977 : -18\n"
     ]
    },
    {
     "data": {
      "text/plain": [
       "0.004"
      ]
     },
     "execution_count": 21,
     "metadata": {},
     "output_type": "execute_result"
    }
   ],
   "source": [
    "print(\"Increases minus decreases from 1975 to 1977 (when the death penalty was reinstated) among death penalty states:\",\n",
    "      sum(death_penalty_murder_rates.where('Year', are.between_or_equal_to(1975, 1977))\n",
    "                                    .group('State', two_year_changes)\n",
    "                                    .column(\"Murder Rate two_year_changes\")))\n",
    "run_test(death_penalty_murder_rates, 1975)"
   ]
  },
  {
   "cell_type": "markdown",
   "metadata": {},
   "source": [
    "**Question 2.2.** Now we've analyzed states where the death penalty went away and came back, as well as states where the death penalty was outlawed all along.  What do you conclude from  the results of the tests we have conducted so far? Does all the evidence consistently point toward one conclusion, or is there a contradiction?\n",
    "\n",
    "1) Our results point toward the conclusion that the death penalty moratorium increased murder rates.\n",
    "\n",
    "2) Our results point toward the conclusion that the death penalty moratorium increased murder rates, but we have not accounted for differences over time as a confounding factor.\n",
    "\n",
    "3) Our results don't allow us to make any conclusion about murder rates and death penalties.\n",
    "\n",
    "4) Our results point toward the conclusion that the death penalty moratorium didn't influence murder rates.\n",
    "\n",
    "5) None of these conclusions are valid, or multiple of these conclusions are valid\n",
    "\n",
    "Below, set we_conclude to a single number, corresponding to your answer."
   ]
  },
  {
   "cell_type": "code",
   "execution_count": 22,
   "metadata": {},
   "outputs": [],
   "source": [
    "we_conclude = 2"
   ]
  },
  {
   "cell_type": "code",
   "execution_count": 23,
   "metadata": {},
   "outputs": [],
   "source": [
    "#check(\"tests/q2_2.py\")"
   ]
  },
  {
   "cell_type": "markdown",
   "metadata": {},
   "source": [
    "## 3. Visualization\n",
    "\n",
    "While our analysis appears to support the conclusion that the death penalty deters murder, [a 2006 Stanford Law Review paper](http://users.nber.org/~jwolfers/papers/DeathPenalty%28SLR%29.pdf) argues the opposite: that historical murder rates do **not** provide evidence that the death penalty deters murderers.\n",
    "\n",
    "To understand their argument, we will draw a picture.  In fact, we've gone at this whole analysis rather backward; typically we should draw a picture first and ask precise statistical questions later!\n",
    "\n",
    "What plot should we draw?\n",
    "\n",
    "We know that we want to compare murder rates of states with and without the death penalty.  We know we should focus on the period around the two natural experiments of 1972 and 1976, and we want to understand the evolution of murder rates over time for those groups of states.  It might be useful to look at other time periods, so let's plot them all for good measure."
   ]
  },
  {
   "cell_type": "markdown",
   "metadata": {},
   "source": [
    "**Question 3.1.** <br/>Create a table called `average_murder_rates` with 1 row for each year in `murder_rates`.  It should have 3 columns:\n",
    "* `Year`, the year,\n",
    "* `Death penalty states`, the average murder rate of the states that had the death penalty in 1971, and\n",
    "* `No death penalty states`, the average murder rate of the other states.\n",
    "\n",
    "`average_murder_rates` should be sorted in increasing order by year.  Its first three rows should look like:\n",
    "\n",
    "|Year|Death penalty states|No death penalty states|\n",
    "|-|-|-|\n",
    "|1960| | |\n",
    "|1961| | |\n",
    "|1962| | ||\n",
    "\n",
    "*Hint 1:*  It's easiest to use `pivot`. We don't expect you to account for differences in population.\n",
    "\n",
    "*Hint 2:* You can reorder columns in a table using `.select`."
   ]
  },
  {
   "cell_type": "code",
   "execution_count": 24,
   "metadata": {},
   "outputs": [
    {
     "data": {
      "text/html": [
       "<table border=\"1\" class=\"dataframe\">\n",
       "    <thead>\n",
       "        <tr>\n",
       "            <th>State</th> <th>Year</th> <th>Population</th> <th>Murder Rate</th>\n",
       "        </tr>\n",
       "    </thead>\n",
       "    <tbody>\n",
       "        <tr>\n",
       "            <td>Alabama</td> <td>1960</td> <td>3,266,740 </td> <td>12.4       </td>\n",
       "        </tr>\n",
       "        <tr>\n",
       "            <td>Alabama</td> <td>1961</td> <td>3,302,000 </td> <td>12.9       </td>\n",
       "        </tr>\n",
       "        <tr>\n",
       "            <td>Alabama</td> <td>1962</td> <td>3,358,000 </td> <td>9.4        </td>\n",
       "        </tr>\n",
       "        <tr>\n",
       "            <td>Alabama</td> <td>1963</td> <td>3,347,000 </td> <td>10.2       </td>\n",
       "        </tr>\n",
       "        <tr>\n",
       "            <td>Alabama</td> <td>1964</td> <td>3,407,000 </td> <td>9.3        </td>\n",
       "        </tr>\n",
       "        <tr>\n",
       "            <td>Alabama</td> <td>1965</td> <td>3,462,000 </td> <td>11.4       </td>\n",
       "        </tr>\n",
       "        <tr>\n",
       "            <td>Alabama</td> <td>1966</td> <td>3,517,000 </td> <td>10.9       </td>\n",
       "        </tr>\n",
       "        <tr>\n",
       "            <td>Alabama</td> <td>1967</td> <td>3,540,000 </td> <td>11.7       </td>\n",
       "        </tr>\n",
       "        <tr>\n",
       "            <td>Alabama</td> <td>1968</td> <td>3,566,000 </td> <td>11.8       </td>\n",
       "        </tr>\n",
       "        <tr>\n",
       "            <td>Alabama</td> <td>1969</td> <td>3,531,000 </td> <td>13.7       </td>\n",
       "        </tr>\n",
       "    </tbody>\n",
       "</table>\n",
       "<p>... (1926 rows omitted)</p>"
      ],
      "text/plain": [
       "State   | Year | Population | Murder Rate\n",
       "Alabama | 1960 | 3,266,740  | 12.4\n",
       "Alabama | 1961 | 3,302,000  | 12.9\n",
       "Alabama | 1962 | 3,358,000  | 9.4\n",
       "Alabama | 1963 | 3,347,000  | 10.2\n",
       "Alabama | 1964 | 3,407,000  | 9.3\n",
       "Alabama | 1965 | 3,462,000  | 11.4\n",
       "Alabama | 1966 | 3,517,000  | 10.9\n",
       "Alabama | 1967 | 3,540,000  | 11.7\n",
       "Alabama | 1968 | 3,566,000  | 11.8\n",
       "Alabama | 1969 | 3,531,000  | 13.7\n",
       "... (1926 rows omitted)"
      ]
     },
     "execution_count": 24,
     "metadata": {},
     "output_type": "execute_result"
    }
   ],
   "source": [
    "death_penalty_murder_rates"
   ]
  },
  {
   "cell_type": "code",
   "execution_count": 25,
   "metadata": {},
   "outputs": [
    {
     "data": {
      "text/html": [
       "<table border=\"1\" class=\"dataframe\">\n",
       "    <thead>\n",
       "        <tr>\n",
       "            <th>State</th> <th>1960</th> <th>1961</th> <th>1962</th> <th>1963</th> <th>1964</th> <th>1965</th> <th>1966</th> <th>1967</th> <th>1968</th> <th>1969</th> <th>1970</th> <th>1971</th> <th>1972</th> <th>1973</th> <th>1974</th> <th>1975</th> <th>1976</th> <th>1977</th> <th>1978</th> <th>1979</th> <th>1980</th> <th>1981</th> <th>1982</th> <th>1983</th> <th>1984</th> <th>1985</th> <th>1986</th> <th>1987</th> <th>1988</th> <th>1989</th> <th>1990</th> <th>1991</th> <th>1992</th> <th>1993</th> <th>1994</th> <th>1995</th> <th>1996</th> <th>1997</th> <th>1998</th> <th>1999</th> <th>2000</th> <th>2001</th> <th>2002</th> <th>2003</th>\n",
       "        </tr>\n",
       "    </thead>\n",
       "    <tbody>\n",
       "        <tr>\n",
       "            <td>Alabama    </td> <td>12.4</td> <td>12.9</td> <td>9.4 </td> <td>10.2</td> <td>9.3 </td> <td>11.4</td> <td>10.9</td> <td>11.7</td> <td>11.8</td> <td>13.7</td> <td>11.7</td> <td>15.1</td> <td>14.1</td> <td>13.2</td> <td>15  </td> <td>16  </td> <td>15.1</td> <td>14.2</td> <td>13.3</td> <td>13.2</td> <td>13.2</td> <td>11.9</td> <td>10.6</td> <td>9.2 </td> <td>9.4 </td> <td>9.8 </td> <td>10.1</td> <td>9.3 </td> <td>9.9 </td> <td>10.2</td> <td>11.6</td> <td>11.5</td> <td>11  </td> <td>11.6</td> <td>11.9</td> <td>11.2</td> <td>10  </td> <td>9.9 </td> <td>8.1 </td> <td>7.9 </td> <td>7.4 </td> <td>8.5 </td> <td>6.8 </td> <td>6.6 </td>\n",
       "        </tr>\n",
       "        <tr>\n",
       "            <td>Arizona    </td> <td>6   </td> <td>6   </td> <td>5.7 </td> <td>6   </td> <td>5.2 </td> <td>5   </td> <td>6.1 </td> <td>5.6 </td> <td>6.3 </td> <td>6   </td> <td>9.5 </td> <td>6.7 </td> <td>7.3 </td> <td>8.1 </td> <td>9.6 </td> <td>8.6 </td> <td>7.8 </td> <td>9.5 </td> <td>9.4 </td> <td>8.9 </td> <td>10.3</td> <td>8.1 </td> <td>8.3 </td> <td>7.2 </td> <td>7.8 </td> <td>8   </td> <td>9.3 </td> <td>7.5 </td> <td>8.5 </td> <td>6.7 </td> <td>7.7 </td> <td>7.8 </td> <td>8.1 </td> <td>8.6 </td> <td>10.5</td> <td>10.4</td> <td>8.5 </td> <td>8.2 </td> <td>8.1 </td> <td>8   </td> <td>7   </td> <td>7.5 </td> <td>7.1 </td> <td>7.9 </td>\n",
       "        </tr>\n",
       "        <tr>\n",
       "            <td>Arkansas   </td> <td>8.5 </td> <td>9.1 </td> <td>7.9 </td> <td>7.4 </td> <td>7.6 </td> <td>5.9 </td> <td>7.1 </td> <td>8.8 </td> <td>8.1 </td> <td>9.9 </td> <td>10.1</td> <td>10.5</td> <td>10.4</td> <td>8.8 </td> <td>11.2</td> <td>10.1</td> <td>10.1</td> <td>8.8 </td> <td>9.1 </td> <td>9.1 </td> <td>9.2 </td> <td>9.1 </td> <td>8.2 </td> <td>7.6 </td> <td>7.5 </td> <td>7.9 </td> <td>8.1 </td> <td>7.6 </td> <td>8.7 </td> <td>8.4 </td> <td>10.3</td> <td>11.1</td> <td>10.8</td> <td>10.2</td> <td>12  </td> <td>10.4</td> <td>8.7 </td> <td>9.9 </td> <td>7.9 </td> <td>5.6 </td> <td>6.3 </td> <td>5.5 </td> <td>5.2 </td> <td>6.4 </td>\n",
       "        </tr>\n",
       "        <tr>\n",
       "            <td>California </td> <td>3.9 </td> <td>3.7 </td> <td>3.9 </td> <td>3.8 </td> <td>4.1 </td> <td>4.7 </td> <td>4.6 </td> <td>5.4 </td> <td>6   </td> <td>7.1 </td> <td>6.9 </td> <td>8.1 </td> <td>8.8 </td> <td>9   </td> <td>9.5 </td> <td>10.4</td> <td>10.3</td> <td>11.5</td> <td>11.7</td> <td>13  </td> <td>14.5</td> <td>13  </td> <td>11.2</td> <td>10.5</td> <td>10.6</td> <td>10.5</td> <td>11.3</td> <td>10.6</td> <td>10.4</td> <td>10.9</td> <td>11.9</td> <td>12.7</td> <td>12.7</td> <td>13.1</td> <td>11.8</td> <td>11.2</td> <td>9.1 </td> <td>8   </td> <td>6.6 </td> <td>6   </td> <td>6.1 </td> <td>6.4 </td> <td>6.8 </td> <td>6.8 </td>\n",
       "        </tr>\n",
       "        <tr>\n",
       "            <td>Colorado   </td> <td>4.2 </td> <td>4.7 </td> <td>5   </td> <td>4.8 </td> <td>4.2 </td> <td>3.5 </td> <td>4   </td> <td>4.1 </td> <td>5.4 </td> <td>5.3 </td> <td>6.2 </td> <td>6.5 </td> <td>8.3 </td> <td>7.9 </td> <td>6   </td> <td>7.4 </td> <td>6.8 </td> <td>6.3 </td> <td>7.3 </td> <td>5.8 </td> <td>6.9 </td> <td>8.1 </td> <td>6   </td> <td>6.4 </td> <td>5.8 </td> <td>5.8 </td> <td>7   </td> <td>5.8 </td> <td>5.7 </td> <td>4.4 </td> <td>4.2 </td> <td>5.9 </td> <td>6.2 </td> <td>5.8 </td> <td>5.4 </td> <td>5.8 </td> <td>4.7 </td> <td>4   </td> <td>4.6 </td> <td>4.6 </td> <td>3.1 </td> <td>3.6 </td> <td>4   </td> <td>3.9 </td>\n",
       "        </tr>\n",
       "        <tr>\n",
       "            <td>Connecticut</td> <td>1.6 </td> <td>1   </td> <td>1.3 </td> <td>1.8 </td> <td>1.8 </td> <td>1.6 </td> <td>2   </td> <td>2.4 </td> <td>2.5 </td> <td>2.9 </td> <td>3.5 </td> <td>3.1 </td> <td>3.2 </td> <td>3.3 </td> <td>3.3 </td> <td>3.9 </td> <td>3.1 </td> <td>4.2 </td> <td>4.2 </td> <td>4.2 </td> <td>4.7 </td> <td>5.4 </td> <td>5.2 </td> <td>4.1 </td> <td>3.9 </td> <td>3.8 </td> <td>4.6 </td> <td>4.9 </td> <td>5.4 </td> <td>5.9 </td> <td>5.1 </td> <td>5.7 </td> <td>5.1 </td> <td>6.3 </td> <td>6.6 </td> <td>4.6 </td> <td>4.8 </td> <td>3.8 </td> <td>4.1 </td> <td>3.3 </td> <td>2.9 </td> <td>3.1 </td> <td>2.4 </td> <td>3   </td>\n",
       "        </tr>\n",
       "        <tr>\n",
       "            <td>Delaware   </td> <td>7.4 </td> <td>4.4 </td> <td>4.3 </td> <td>5   </td> <td>4.7 </td> <td>5.7 </td> <td>9   </td> <td>8.6 </td> <td>8.4 </td> <td>8   </td> <td>7.7 </td> <td>6.1 </td> <td>6.9 </td> <td>5.9 </td> <td>10.3</td> <td>7.3 </td> <td>6.2 </td> <td>6   </td> <td>6.7 </td> <td>5.7 </td> <td>6.9 </td> <td>6.7 </td> <td>5.3 </td> <td>4.1 </td> <td>4.1 </td> <td>4.8 </td> <td>4.9 </td> <td>5.1 </td> <td>5.2 </td> <td>5.1 </td> <td>5   </td> <td>5.4 </td> <td>4.6 </td> <td>5   </td> <td>4.7 </td> <td>3.5 </td> <td>4.3 </td> <td>3   </td> <td>2.8 </td> <td>3.2 </td> <td>3.2 </td> <td>2.9 </td> <td>3.2 </td> <td>2.9 </td>\n",
       "        </tr>\n",
       "        <tr>\n",
       "            <td>Florida    </td> <td>10.6</td> <td>9.1 </td> <td>7.7 </td> <td>8.2 </td> <td>8.6 </td> <td>8.9 </td> <td>10.3</td> <td>10.5</td> <td>11.9</td> <td>11.3</td> <td>12.7</td> <td>13.3</td> <td>12.7</td> <td>15.4</td> <td>14.7</td> <td>13.5</td> <td>10.7</td> <td>10.2</td> <td>11  </td> <td>12.2</td> <td>14.5</td> <td>15  </td> <td>13.5</td> <td>11.2</td> <td>11.5</td> <td>11.4</td> <td>11.7</td> <td>11.4</td> <td>11.4</td> <td>11.1</td> <td>10.7</td> <td>9.4 </td> <td>9   </td> <td>8.9 </td> <td>8.3 </td> <td>7.3 </td> <td>7.5 </td> <td>6.9 </td> <td>6.5 </td> <td>5.7 </td> <td>5.6 </td> <td>5.3 </td> <td>5.5 </td> <td>5.4 </td>\n",
       "        </tr>\n",
       "        <tr>\n",
       "            <td>Georgia    </td> <td>11.9</td> <td>10  </td> <td>10.3</td> <td>9.4 </td> <td>11.7</td> <td>11.3</td> <td>11.3</td> <td>11.1</td> <td>13.9</td> <td>11.9</td> <td>15.3</td> <td>16  </td> <td>18.5</td> <td>17.4</td> <td>17.8</td> <td>14.4</td> <td>13.9</td> <td>11.7</td> <td>14.4</td> <td>17.1</td> <td>13.8</td> <td>17.2</td> <td>12.6</td> <td>8.4 </td> <td>9.4 </td> <td>10.4</td> <td>11.2</td> <td>11.8</td> <td>11.7</td> <td>12.7</td> <td>11.8</td> <td>12.8</td> <td>11  </td> <td>11.4</td> <td>10  </td> <td>9.5 </td> <td>8.6 </td> <td>7.5 </td> <td>8.1 </td> <td>7.5 </td> <td>8   </td> <td>7.1 </td> <td>7.1 </td> <td>7.6 </td>\n",
       "        </tr>\n",
       "        <tr>\n",
       "            <td>Idaho      </td> <td>2.4 </td> <td>2   </td> <td>3   </td> <td>2.5 </td> <td>4   </td> <td>2   </td> <td>3   </td> <td>4.3 </td> <td>2.3 </td> <td>1.9 </td> <td>4.6 </td> <td>3.3 </td> <td>3.8 </td> <td>2.6 </td> <td>5.6 </td> <td>5.2 </td> <td>5.3 </td> <td>5.5 </td> <td>5.4 </td> <td>5.4 </td> <td>3.1 </td> <td>4.5 </td> <td>2.5 </td> <td>3.5 </td> <td>3.4 </td> <td>2.2 </td> <td>3.2 </td> <td>3.1 </td> <td>3.6 </td> <td>2.6 </td> <td>2.7 </td> <td>1.8 </td> <td>3.5 </td> <td>2.9 </td> <td>3.5 </td> <td>4.1 </td> <td>3.6 </td> <td>3.2 </td> <td>2.9 </td> <td>2   </td> <td>1.2 </td> <td>2.3 </td> <td>2.7 </td> <td>1.8 </td>\n",
       "        </tr>\n",
       "    </tbody>\n",
       "</table>\n",
       "<p>... (34 rows omitted)</p>"
      ],
      "text/plain": [
       "State       | 1960 | 1961 | 1962 | 1963 | 1964 | 1965 | 1966 | 1967 | 1968 | 1969 | 1970 | 1971 | 1972 | 1973 | 1974 | 1975 | 1976 | 1977 | 1978 | 1979 | 1980 | 1981 | 1982 | 1983 | 1984 | 1985 | 1986 | 1987 | 1988 | 1989 | 1990 | 1991 | 1992 | 1993 | 1994 | 1995 | 1996 | 1997 | 1998 | 1999 | 2000 | 2001 | 2002 | 2003\n",
       "Alabama     | 12.4 | 12.9 | 9.4  | 10.2 | 9.3  | 11.4 | 10.9 | 11.7 | 11.8 | 13.7 | 11.7 | 15.1 | 14.1 | 13.2 | 15   | 16   | 15.1 | 14.2 | 13.3 | 13.2 | 13.2 | 11.9 | 10.6 | 9.2  | 9.4  | 9.8  | 10.1 | 9.3  | 9.9  | 10.2 | 11.6 | 11.5 | 11   | 11.6 | 11.9 | 11.2 | 10   | 9.9  | 8.1  | 7.9  | 7.4  | 8.5  | 6.8  | 6.6\n",
       "Arizona     | 6    | 6    | 5.7  | 6    | 5.2  | 5    | 6.1  | 5.6  | 6.3  | 6    | 9.5  | 6.7  | 7.3  | 8.1  | 9.6  | 8.6  | 7.8  | 9.5  | 9.4  | 8.9  | 10.3 | 8.1  | 8.3  | 7.2  | 7.8  | 8    | 9.3  | 7.5  | 8.5  | 6.7  | 7.7  | 7.8  | 8.1  | 8.6  | 10.5 | 10.4 | 8.5  | 8.2  | 8.1  | 8    | 7    | 7.5  | 7.1  | 7.9\n",
       "Arkansas    | 8.5  | 9.1  | 7.9  | 7.4  | 7.6  | 5.9  | 7.1  | 8.8  | 8.1  | 9.9  | 10.1 | 10.5 | 10.4 | 8.8  | 11.2 | 10.1 | 10.1 | 8.8  | 9.1  | 9.1  | 9.2  | 9.1  | 8.2  | 7.6  | 7.5  | 7.9  | 8.1  | 7.6  | 8.7  | 8.4  | 10.3 | 11.1 | 10.8 | 10.2 | 12   | 10.4 | 8.7  | 9.9  | 7.9  | 5.6  | 6.3  | 5.5  | 5.2  | 6.4\n",
       "California  | 3.9  | 3.7  | 3.9  | 3.8  | 4.1  | 4.7  | 4.6  | 5.4  | 6    | 7.1  | 6.9  | 8.1  | 8.8  | 9    | 9.5  | 10.4 | 10.3 | 11.5 | 11.7 | 13   | 14.5 | 13   | 11.2 | 10.5 | 10.6 | 10.5 | 11.3 | 10.6 | 10.4 | 10.9 | 11.9 | 12.7 | 12.7 | 13.1 | 11.8 | 11.2 | 9.1  | 8    | 6.6  | 6    | 6.1  | 6.4  | 6.8  | 6.8\n",
       "Colorado    | 4.2  | 4.7  | 5    | 4.8  | 4.2  | 3.5  | 4    | 4.1  | 5.4  | 5.3  | 6.2  | 6.5  | 8.3  | 7.9  | 6    | 7.4  | 6.8  | 6.3  | 7.3  | 5.8  | 6.9  | 8.1  | 6    | 6.4  | 5.8  | 5.8  | 7    | 5.8  | 5.7  | 4.4  | 4.2  | 5.9  | 6.2  | 5.8  | 5.4  | 5.8  | 4.7  | 4    | 4.6  | 4.6  | 3.1  | 3.6  | 4    | 3.9\n",
       "Connecticut | 1.6  | 1    | 1.3  | 1.8  | 1.8  | 1.6  | 2    | 2.4  | 2.5  | 2.9  | 3.5  | 3.1  | 3.2  | 3.3  | 3.3  | 3.9  | 3.1  | 4.2  | 4.2  | 4.2  | 4.7  | 5.4  | 5.2  | 4.1  | 3.9  | 3.8  | 4.6  | 4.9  | 5.4  | 5.9  | 5.1  | 5.7  | 5.1  | 6.3  | 6.6  | 4.6  | 4.8  | 3.8  | 4.1  | 3.3  | 2.9  | 3.1  | 2.4  | 3\n",
       "Delaware    | 7.4  | 4.4  | 4.3  | 5    | 4.7  | 5.7  | 9    | 8.6  | 8.4  | 8    | 7.7  | 6.1  | 6.9  | 5.9  | 10.3 | 7.3  | 6.2  | 6    | 6.7  | 5.7  | 6.9  | 6.7  | 5.3  | 4.1  | 4.1  | 4.8  | 4.9  | 5.1  | 5.2  | 5.1  | 5    | 5.4  | 4.6  | 5    | 4.7  | 3.5  | 4.3  | 3    | 2.8  | 3.2  | 3.2  | 2.9  | 3.2  | 2.9\n",
       "Florida     | 10.6 | 9.1  | 7.7  | 8.2  | 8.6  | 8.9  | 10.3 | 10.5 | 11.9 | 11.3 | 12.7 | 13.3 | 12.7 | 15.4 | 14.7 | 13.5 | 10.7 | 10.2 | 11   | 12.2 | 14.5 | 15   | 13.5 | 11.2 | 11.5 | 11.4 | 11.7 | 11.4 | 11.4 | 11.1 | 10.7 | 9.4  | 9    | 8.9  | 8.3  | 7.3  | 7.5  | 6.9  | 6.5  | 5.7  | 5.6  | 5.3  | 5.5  | 5.4\n",
       "Georgia     | 11.9 | 10   | 10.3 | 9.4  | 11.7 | 11.3 | 11.3 | 11.1 | 13.9 | 11.9 | 15.3 | 16   | 18.5 | 17.4 | 17.8 | 14.4 | 13.9 | 11.7 | 14.4 | 17.1 | 13.8 | 17.2 | 12.6 | 8.4  | 9.4  | 10.4 | 11.2 | 11.8 | 11.7 | 12.7 | 11.8 | 12.8 | 11   | 11.4 | 10   | 9.5  | 8.6  | 7.5  | 8.1  | 7.5  | 8    | 7.1  | 7.1  | 7.6\n",
       "Idaho       | 2.4  | 2    | 3    | 2.5  | 4    | 2    | 3    | 4.3  | 2.3  | 1.9  | 4.6  | 3.3  | 3.8  | 2.6  | 5.6  | 5.2  | 5.3  | 5.5  | 5.4  | 5.4  | 3.1  | 4.5  | 2.5  | 3.5  | 3.4  | 2.2  | 3.2  | 3.1  | 3.6  | 2.6  | 2.7  | 1.8  | 3.5  | 2.9  | 3.5  | 4.1  | 3.6  | 3.2  | 2.9  | 2    | 1.2  | 2.3  | 2.7  | 1.8\n",
       "... (34 rows omitted)"
      ]
     },
     "execution_count": 25,
     "metadata": {},
     "output_type": "execute_result"
    }
   ],
   "source": [
    "death_penalty_murder_rates_p = death_penalty_murder_rates.pivot('Year','State',\n",
    "                                values = 'Murder Rate', collect = np.mean)\n",
    "death_penalty_murder_rates_p"
   ]
  },
  {
   "cell_type": "code",
   "execution_count": 26,
   "metadata": {},
   "outputs": [
    {
     "data": {
      "text/html": [
       "<table border=\"1\" class=\"dataframe\">\n",
       "    <thead>\n",
       "        <tr>\n",
       "            <th>State</th> <th>1960</th> <th>1961</th> <th>1962</th> <th>1963</th> <th>1964</th> <th>1965</th> <th>1966</th> <th>1967</th> <th>1968</th> <th>1969</th> <th>1970</th> <th>1971</th> <th>1972</th> <th>1973</th> <th>1974</th> <th>1975</th> <th>1976</th> <th>1977</th> <th>1978</th> <th>1979</th> <th>1980</th> <th>1981</th> <th>1982</th> <th>1983</th> <th>1984</th> <th>1985</th> <th>1986</th> <th>1987</th> <th>1988</th> <th>1989</th> <th>1990</th> <th>1991</th> <th>1992</th> <th>1993</th> <th>1994</th> <th>1995</th> <th>1996</th> <th>1997</th> <th>1998</th> <th>1999</th> <th>2000</th> <th>2001</th> <th>2002</th> <th>2003</th>\n",
       "        </tr>\n",
       "    </thead>\n",
       "    <tbody>\n",
       "        <tr>\n",
       "            <td>Alaska   </td> <td>10.2</td> <td>11.5</td> <td>4.5 </td> <td>6.5 </td> <td>10.4</td> <td>6.3 </td> <td>12.9</td> <td>9.6 </td> <td>10.5</td> <td>10.6</td> <td>12.2</td> <td>13.4</td> <td>9.5 </td> <td>10  </td> <td>13.6</td> <td>12.2</td> <td>11.3</td> <td>10.8</td> <td>12.9</td> <td>13.3</td> <td>8.9 </td> <td>14.6</td> <td>18.5</td> <td>13.8</td> <td>11.6</td> <td>9.8 </td> <td>8.6 </td> <td>10.1</td> <td>5.7 </td> <td>8   </td> <td>7.5 </td> <td>7.4 </td> <td>7.5 </td> <td>9   </td> <td>6.3 </td> <td>9.1 </td> <td>7.4 </td> <td>8.9 </td> <td>6.7 </td> <td>8.4 </td> <td>4.3 </td> <td>6.1 </td> <td>5.1 </td> <td>6   </td>\n",
       "        </tr>\n",
       "        <tr>\n",
       "            <td>Hawaii   </td> <td>2.4 </td> <td>2.3 </td> <td>2.9 </td> <td>1.7 </td> <td>2.1 </td> <td>3.2 </td> <td>2.9 </td> <td>2.4 </td> <td>2.8 </td> <td>3.4 </td> <td>3.6 </td> <td>5.3 </td> <td>6.8 </td> <td>5.3 </td> <td>8.3 </td> <td>7.7 </td> <td>6.2 </td> <td>7.2 </td> <td>6.7 </td> <td>7.2 </td> <td>8.7 </td> <td>4.8 </td> <td>3.1 </td> <td>5.6 </td> <td>3.3 </td> <td>4.1 </td> <td>4.8 </td> <td>4.8 </td> <td>4   </td> <td>4.8 </td> <td>4   </td> <td>4   </td> <td>3.6 </td> <td>3.8 </td> <td>4.2 </td> <td>4.7 </td> <td>3.4 </td> <td>4   </td> <td>2   </td> <td>3.7 </td> <td>2.9 </td> <td>2.6 </td> <td>1.9 </td> <td>1.7 </td>\n",
       "        </tr>\n",
       "        <tr>\n",
       "            <td>Maine    </td> <td>1.7 </td> <td>1.6 </td> <td>1.4 </td> <td>1.9 </td> <td>1.5 </td> <td>2.1 </td> <td>2.2 </td> <td>0.4 </td> <td>3   </td> <td>1.6 </td> <td>1.5 </td> <td>2   </td> <td>5.3 </td> <td>2.1 </td> <td>2.9 </td> <td>2.8 </td> <td>2.7 </td> <td>2.4 </td> <td>2.7 </td> <td>2.8 </td> <td>2.8 </td> <td>3.2 </td> <td>2.1 </td> <td>2.1 </td> <td>1.7 </td> <td>2.4 </td> <td>2   </td> <td>2.5 </td> <td>3.1 </td> <td>3.2 </td> <td>2.4 </td> <td>1.2 </td> <td>1.7 </td> <td>1.6 </td> <td>2.3 </td> <td>2   </td> <td>2   </td> <td>2   </td> <td>2.1 </td> <td>2   </td> <td>1.2 </td> <td>1.4 </td> <td>1.1 </td> <td>1.2 </td>\n",
       "        </tr>\n",
       "        <tr>\n",
       "            <td>Michigan </td> <td>4.5 </td> <td>4.1 </td> <td>3.4 </td> <td>3.5 </td> <td>3.5 </td> <td>4.6 </td> <td>5   </td> <td>6.5 </td> <td>7.7 </td> <td>8.8 </td> <td>9.4 </td> <td>10.5</td> <td>11  </td> <td>12.1</td> <td>13  </td> <td>11.9</td> <td>11.1</td> <td>9.3 </td> <td>10.6</td> <td>9.1 </td> <td>10.2</td> <td>9.4 </td> <td>9.1 </td> <td>10  </td> <td>9.7 </td> <td>11.2</td> <td>11.3</td> <td>12.2</td> <td>10.8</td> <td>10.7</td> <td>10.4</td> <td>10.8</td> <td>9.9 </td> <td>9.8 </td> <td>9.8 </td> <td>8.5 </td> <td>7.5 </td> <td>7.8 </td> <td>7.3 </td> <td>7   </td> <td>6.7 </td> <td>6.7 </td> <td>6.8 </td> <td>6.1 </td>\n",
       "        </tr>\n",
       "        <tr>\n",
       "            <td>Minnesota</td> <td>1.2 </td> <td>1   </td> <td>0.9 </td> <td>1.2 </td> <td>1.4 </td> <td>1.4 </td> <td>2.2 </td> <td>1.6 </td> <td>2.2 </td> <td>1.9 </td> <td>2   </td> <td>2.4 </td> <td>2.4 </td> <td>2.7 </td> <td>3   </td> <td>3.3 </td> <td>2.3 </td> <td>2.7 </td> <td>2   </td> <td>2.3 </td> <td>2.6 </td> <td>2.1 </td> <td>2.3 </td> <td>1.7 </td> <td>1.8 </td> <td>2.1 </td> <td>2.5 </td> <td>2.6 </td> <td>2.9 </td> <td>2.5 </td> <td>2.7 </td> <td>3   </td> <td>3.3 </td> <td>3.4 </td> <td>3.2 </td> <td>3.9 </td> <td>3.6 </td> <td>2.8 </td> <td>2.6 </td> <td>2.8 </td> <td>3.1 </td> <td>2.4 </td> <td>2.2 </td> <td>2.5 </td>\n",
       "        </tr>\n",
       "        <tr>\n",
       "            <td>Wisconsin</td> <td>1.3 </td> <td>1.6 </td> <td>0.9 </td> <td>1.7 </td> <td>1.5 </td> <td>1.5 </td> <td>1.9 </td> <td>1.9 </td> <td>2.2 </td> <td>2.1 </td> <td>2   </td> <td>2.8 </td> <td>2.8 </td> <td>2.6 </td> <td>3   </td> <td>3.3 </td> <td>3   </td> <td>2.8 </td> <td>2.5 </td> <td>3.4 </td> <td>2.9 </td> <td>3.4 </td> <td>3.1 </td> <td>2.8 </td> <td>2.5 </td> <td>2.8 </td> <td>3.1 </td> <td>3.5 </td> <td>3   </td> <td>3.6 </td> <td>4.6 </td> <td>4.8 </td> <td>4.4 </td> <td>4.4 </td> <td>4.5 </td> <td>4.3 </td> <td>4   </td> <td>4   </td> <td>3.6 </td> <td>3.4 </td> <td>3.2 </td> <td>3.6 </td> <td>2.8 </td> <td>3.3 </td>\n",
       "        </tr>\n",
       "    </tbody>\n",
       "</table>"
      ],
      "text/plain": [
       "State     | 1960 | 1961 | 1962 | 1963 | 1964 | 1965 | 1966 | 1967 | 1968 | 1969 | 1970 | 1971 | 1972 | 1973 | 1974 | 1975 | 1976 | 1977 | 1978 | 1979 | 1980 | 1981 | 1982 | 1983 | 1984 | 1985 | 1986 | 1987 | 1988 | 1989 | 1990 | 1991 | 1992 | 1993 | 1994 | 1995 | 1996 | 1997 | 1998 | 1999 | 2000 | 2001 | 2002 | 2003\n",
       "Alaska    | 10.2 | 11.5 | 4.5  | 6.5  | 10.4 | 6.3  | 12.9 | 9.6  | 10.5 | 10.6 | 12.2 | 13.4 | 9.5  | 10   | 13.6 | 12.2 | 11.3 | 10.8 | 12.9 | 13.3 | 8.9  | 14.6 | 18.5 | 13.8 | 11.6 | 9.8  | 8.6  | 10.1 | 5.7  | 8    | 7.5  | 7.4  | 7.5  | 9    | 6.3  | 9.1  | 7.4  | 8.9  | 6.7  | 8.4  | 4.3  | 6.1  | 5.1  | 6\n",
       "Hawaii    | 2.4  | 2.3  | 2.9  | 1.7  | 2.1  | 3.2  | 2.9  | 2.4  | 2.8  | 3.4  | 3.6  | 5.3  | 6.8  | 5.3  | 8.3  | 7.7  | 6.2  | 7.2  | 6.7  | 7.2  | 8.7  | 4.8  | 3.1  | 5.6  | 3.3  | 4.1  | 4.8  | 4.8  | 4    | 4.8  | 4    | 4    | 3.6  | 3.8  | 4.2  | 4.7  | 3.4  | 4    | 2    | 3.7  | 2.9  | 2.6  | 1.9  | 1.7\n",
       "Maine     | 1.7  | 1.6  | 1.4  | 1.9  | 1.5  | 2.1  | 2.2  | 0.4  | 3    | 1.6  | 1.5  | 2    | 5.3  | 2.1  | 2.9  | 2.8  | 2.7  | 2.4  | 2.7  | 2.8  | 2.8  | 3.2  | 2.1  | 2.1  | 1.7  | 2.4  | 2    | 2.5  | 3.1  | 3.2  | 2.4  | 1.2  | 1.7  | 1.6  | 2.3  | 2    | 2    | 2    | 2.1  | 2    | 1.2  | 1.4  | 1.1  | 1.2\n",
       "Michigan  | 4.5  | 4.1  | 3.4  | 3.5  | 3.5  | 4.6  | 5    | 6.5  | 7.7  | 8.8  | 9.4  | 10.5 | 11   | 12.1 | 13   | 11.9 | 11.1 | 9.3  | 10.6 | 9.1  | 10.2 | 9.4  | 9.1  | 10   | 9.7  | 11.2 | 11.3 | 12.2 | 10.8 | 10.7 | 10.4 | 10.8 | 9.9  | 9.8  | 9.8  | 8.5  | 7.5  | 7.8  | 7.3  | 7    | 6.7  | 6.7  | 6.8  | 6.1\n",
       "Minnesota | 1.2  | 1    | 0.9  | 1.2  | 1.4  | 1.4  | 2.2  | 1.6  | 2.2  | 1.9  | 2    | 2.4  | 2.4  | 2.7  | 3    | 3.3  | 2.3  | 2.7  | 2    | 2.3  | 2.6  | 2.1  | 2.3  | 1.7  | 1.8  | 2.1  | 2.5  | 2.6  | 2.9  | 2.5  | 2.7  | 3    | 3.3  | 3.4  | 3.2  | 3.9  | 3.6  | 2.8  | 2.6  | 2.8  | 3.1  | 2.4  | 2.2  | 2.5\n",
       "Wisconsin | 1.3  | 1.6  | 0.9  | 1.7  | 1.5  | 1.5  | 1.9  | 1.9  | 2.2  | 2.1  | 2    | 2.8  | 2.8  | 2.6  | 3    | 3.3  | 3    | 2.8  | 2.5  | 3.4  | 2.9  | 3.4  | 3.1  | 2.8  | 2.5  | 2.8  | 3.1  | 3.5  | 3    | 3.6  | 4.6  | 4.8  | 4.4  | 4.4  | 4.5  | 4.3  | 4    | 4    | 3.6  | 3.4  | 3.2  | 3.6  | 2.8  | 3.3"
      ]
     },
     "execution_count": 26,
     "metadata": {},
     "output_type": "execute_result"
    }
   ],
   "source": [
    "non_death_penalty_murder_rates_p = non_death_penalty_murder_rates.pivot('Year',\n",
    "                        'State', values = 'Murder Rate', collect = np.mean)\n",
    "non_death_penalty_murder_rates_p"
   ]
  },
  {
   "cell_type": "code",
   "execution_count": 27,
   "metadata": {},
   "outputs": [
    {
     "data": {
      "text/plain": [
       "array([ 1,  2,  3,  4,  5,  6,  7,  8,  9, 10, 11, 12, 13, 14, 15, 16, 17,\n",
       "       18, 19, 20, 21, 22, 23, 24, 25, 26, 27, 28, 29, 30, 31, 32, 33, 34,\n",
       "       35, 36, 37, 38, 39, 40, 41, 42, 43, 44])"
      ]
     },
     "execution_count": 27,
     "metadata": {},
     "output_type": "execute_result"
    }
   ],
   "source": [
    "len(death_penalty_murder_rates_p)\n",
    "np.mean(death_penalty_murder_rates_p.column(1))\n",
    "np.arange(len(death_penalty_murder_rates_p)-1)+1"
   ]
  },
  {
   "cell_type": "code",
   "execution_count": 28,
   "metadata": {},
   "outputs": [
    {
     "data": {
      "text/html": [
       "<table border=\"1\" class=\"dataframe\">\n",
       "    <thead>\n",
       "        <tr>\n",
       "            <th>Year</th> <th>Death penalty states</th> <th>No death penalty states</th>\n",
       "        </tr>\n",
       "    </thead>\n",
       "    <tbody>\n",
       "        <tr>\n",
       "            <td>1960</td> <td>5.27955             </td> <td>3.55                   </td>\n",
       "        </tr>\n",
       "        <tr>\n",
       "            <td>1961</td> <td>4.77727             </td> <td>3.68333                </td>\n",
       "        </tr>\n",
       "        <tr>\n",
       "            <td>1962</td> <td>4.61591             </td> <td>2.33333                </td>\n",
       "        </tr>\n",
       "        <tr>\n",
       "            <td>1963</td> <td>4.61364             </td> <td>2.75                   </td>\n",
       "        </tr>\n",
       "        <tr>\n",
       "            <td>1964</td> <td>4.71136             </td> <td>3.4                    </td>\n",
       "        </tr>\n",
       "        <tr>\n",
       "            <td>1965</td> <td>4.82727             </td> <td>3.18333                </td>\n",
       "        </tr>\n",
       "        <tr>\n",
       "            <td>1966</td> <td>5.43182             </td> <td>4.51667                </td>\n",
       "        </tr>\n",
       "        <tr>\n",
       "            <td>1967</td> <td>5.875               </td> <td>3.73333                </td>\n",
       "        </tr>\n",
       "        <tr>\n",
       "            <td>1968</td> <td>6.27045             </td> <td>4.73333                </td>\n",
       "        </tr>\n",
       "        <tr>\n",
       "            <td>1969</td> <td>6.50227             </td> <td>4.73333                </td>\n",
       "        </tr>\n",
       "    </tbody>\n",
       "</table>\n",
       "<p>... (34 rows omitted)</p>"
      ],
      "text/plain": [
       "Year | Death penalty states | No death penalty states\n",
       "1960 | 5.27955              | 3.55\n",
       "1961 | 4.77727              | 3.68333\n",
       "1962 | 4.61591              | 2.33333\n",
       "1963 | 4.61364              | 2.75\n",
       "1964 | 4.71136              | 3.4\n",
       "1965 | 4.82727              | 3.18333\n",
       "1966 | 5.43182              | 4.51667\n",
       "1967 | 5.875                | 3.73333\n",
       "1968 | 6.27045              | 4.73333\n",
       "1969 | 6.50227              | 4.73333\n",
       "... (34 rows omitted)"
      ]
     },
     "execution_count": 28,
     "metadata": {},
     "output_type": "execute_result"
    }
   ],
   "source": [
    "non_death_penalty_murder_rates_p = non_death_penalty_murder_rates.pivot('Year',\n",
    "                        'State', values = 'Murder Rate', collect = np.mean)\n",
    "death_penalty_murder_rates_p = death_penalty_murder_rates.pivot('Year','State',\n",
    "                                values = 'Murder Rate', collect = np.mean)\n",
    "mean_mr_death_penalty = make_array()\n",
    "mean_mr_non_death_penalty = make_array()\n",
    "for year in np.arange(len(death_penalty_murder_rates_p)-1)+1:\n",
    "    mean_mr_death_penalty = np.append(mean_mr_death_penalty,\n",
    "                                      np.mean(death_penalty_murder_rates_p\n",
    "                                             .column(year)))\n",
    "    mean_mr_non_death_penalty = np.append(mean_mr_non_death_penalty,\n",
    "                                      np.mean(non_death_penalty_murder_rates_p\n",
    "                                             .column(year)))\n",
    "years = murder_rates.sort('Year',distinct = True).column('Year')\n",
    "average_murder_rates = Table().with_columns('Year',years,'Death penalty states',\n",
    "                                           mean_mr_death_penalty,\n",
    "                                           'No death penalty states',\n",
    "                                           mean_mr_non_death_penalty)\n",
    "average_murder_rates"
   ]
  },
  {
   "cell_type": "code",
   "execution_count": 29,
   "metadata": {
    "for_assignment_type": "student"
   },
   "outputs": [
    {
     "data": {
      "text/html": [
       "<table border=\"1\" class=\"dataframe\">\n",
       "    <thead>\n",
       "        <tr>\n",
       "            <th>Year</th> <th>Death penalty states</th> <th>No death penalty states</th>\n",
       "        </tr>\n",
       "    </thead>\n",
       "    <tbody>\n",
       "        <tr>\n",
       "            <td>1960</td> <td>5.27955             </td> <td>3.55                   </td>\n",
       "        </tr>\n",
       "        <tr>\n",
       "            <td>1961</td> <td>4.77727             </td> <td>3.68333                </td>\n",
       "        </tr>\n",
       "        <tr>\n",
       "            <td>1962</td> <td>4.61591             </td> <td>2.33333                </td>\n",
       "        </tr>\n",
       "        <tr>\n",
       "            <td>1963</td> <td>4.61364             </td> <td>2.75                   </td>\n",
       "        </tr>\n",
       "        <tr>\n",
       "            <td>1964</td> <td>4.71136             </td> <td>3.4                    </td>\n",
       "        </tr>\n",
       "        <tr>\n",
       "            <td>1965</td> <td>4.82727             </td> <td>3.18333                </td>\n",
       "        </tr>\n",
       "        <tr>\n",
       "            <td>1966</td> <td>5.43182             </td> <td>4.51667                </td>\n",
       "        </tr>\n",
       "        <tr>\n",
       "            <td>1967</td> <td>5.875               </td> <td>3.73333                </td>\n",
       "        </tr>\n",
       "        <tr>\n",
       "            <td>1968</td> <td>6.27045             </td> <td>4.73333                </td>\n",
       "        </tr>\n",
       "        <tr>\n",
       "            <td>1969</td> <td>6.50227             </td> <td>4.73333                </td>\n",
       "        </tr>\n",
       "    </tbody>\n",
       "</table>\n",
       "<p>... (34 rows omitted)</p>"
      ],
      "text/plain": [
       "Year | Death penalty states | No death penalty states\n",
       "1960 | 5.27955              | 3.55\n",
       "1961 | 4.77727              | 3.68333\n",
       "1962 | 4.61591              | 2.33333\n",
       "1963 | 4.61364              | 2.75\n",
       "1964 | 4.71136              | 3.4\n",
       "1965 | 4.82727              | 3.18333\n",
       "1966 | 5.43182              | 4.51667\n",
       "1967 | 5.875                | 3.73333\n",
       "1968 | 6.27045              | 4.73333\n",
       "1969 | 6.50227              | 4.73333\n",
       "... (34 rows omitted)"
      ]
     },
     "execution_count": 29,
     "metadata": {},
     "output_type": "execute_result"
    }
   ],
   "source": [
    "# For reference, our solution used 5 method calls\n",
    "# solution I found online. A lot cleaner than mine\n",
    "# doesn't work ran due to a variable being misnamed.\n",
    "# death penalty states\n",
    "years = murder_rates.sort('Year',distinct = True).column('Year')\n",
    "death = murder_rates.where('State',are.contained_in(death_penalty_states)).group('Year',np.mean).column(3)\n",
    "no_death = murder_rates.where('State',are.contained_in(non_death_penalty_states)).group('Year',np.mean).column(3)\n",
    "average_murder_rates = Table().with_columns('Year',years,'Death penalty states',death,'No death penalty states',no_death)\n",
    "average_murder_rates"
   ]
  },
  {
   "cell_type": "code",
   "execution_count": 30,
   "metadata": {},
   "outputs": [],
   "source": [
    "#check('tests/q3_1.py')"
   ]
  },
  {
   "cell_type": "markdown",
   "metadata": {},
   "source": [
    "Let's take a look at the line plot below. Are the murder rates in these two groups of states related?"
   ]
  },
  {
   "cell_type": "code",
   "execution_count": 31,
   "metadata": {},
   "outputs": [
    {
     "data": {
      "image/png": "[encoded data removed]",
      "text/plain": [
       "<Figure size 432x288 with 1 Axes>"
      ]
     },
     "metadata": {},
     "output_type": "display_data"
    }
   ],
   "source": [
    "average_murder_rates.plot('Year')"
   ]
  },
  {
   "cell_type": "markdown",
   "metadata": {},
   "source": [
    "Yes, murder rates in the two groups of states are related as we can see that they share a similar trend in the plot above."
   ]
  },
  {
   "cell_type": "markdown",
   "metadata": {},
   "source": [
    "Let's bring in another source of information: Canada."
   ]
  },
  {
   "cell_type": "code",
   "execution_count": 32,
   "metadata": {},
   "outputs": [
    {
     "data": {
      "image/png": "[encoded data removed]",
      "text/plain": [
       "<Figure size 432x288 with 1 Axes>"
      ]
     },
     "metadata": {},
     "output_type": "display_data"
    }
   ],
   "source": [
    "canada = Table.read_table('canada.csv')\n",
    "murder_rates_with_canada = average_murder_rates.join(\"Year\", canada.select(\"Year\", \"Homicide\").relabeled(\"Homicide\", \"Canada\"))\n",
    "murder_rates_with_canada.plot('Year')"
   ]
  },
  {
   "cell_type": "markdown",
   "metadata": {},
   "source": [
    "The line plot we generated above is similar to a figure from the [paper](http://users.nber.org/~jwolfers/papers/DeathPenalty%28SLR%29.pdf).\n",
    "\n",
    "<img src=\"paper_plot.png\" alt=\"Homicide Rates in the United States vs Canada.\"/>\n",
    "\n",
    "Canada has not executed a criminal since 1962. Since 1967, the only crime that can be punished by execution in Canada is the murder of on-duty law enforcement personnel. The paper states, \"The most striking finding is that the homicide rate in Canada has moved in\n",
    "virtual lockstep with the rate in the United States.\""
   ]
  },
  {
   "cell_type": "markdown",
   "metadata": {
    "manual_problem_id": "visualization_4"
   },
   "source": [
    "From the plots, we can conclude that murder rates in the two countries moved together even around points where death penalty legislation was passed. This seems to suggest that other changes over time determined murder rates in both countries, rather than one or the other's legislation. This and the plots indicate that the death penalty is not an important factor in determining the murder rateFor more information, read the [paper](http://users.nber.org/~jwolfers/papers/DeathPenalty%28SLR%29.pdf)."
   ]
  },
  {
   "cell_type": "markdown",
   "metadata": {
    "manual_problem_id": "visualization_5"
   },
   "source": [
    "**Conclusion**. The authors that created this visualization argue that even though murder rates increased when the death penalty was taken away, and decreased when it was reintroduced, these changes were probably not caused by the death penalty itself."
   ]
  },
  {
   "cell_type": "markdown",
   "metadata": {},
   "source": [
    "## Submission"
   ]
  },
  {
   "cell_type": "markdown",
   "metadata": {},
   "source": [
    "You're finished with lab 4 and the investigation between murder and captial punishment in the United States!\n",
    "\n",
    "In order to successfully submit your assignment, follow these steps...\n",
    "- **IMPORTANT** Before you do anything, **Save and Checkpoint** from the `File` menu. Please do this first before running the cell below,\n",
    "- **run all the tests and verify that they all pass** (the next cell has a shortcut for that), \n",
    "- **Review the notebook one last time** If you make any changes, please **Save and Checkpoint** again.\n",
    "- **Hit the Submit button** Your submission will be saved and grade will be posted when it's finished running."
   ]
  },
  {
   "cell_type": "code",
   "execution_count": 33,
   "metadata": {},
   "outputs": [
    {
     "ename": "ModuleNotFoundError",
     "evalue": "No module named 'gofer'",
     "output_type": "error",
     "traceback": [
      "\u001b[1;31m---------------------------------------------------------------------------\u001b[0m",
      "\u001b[1;31mModuleNotFoundError\u001b[0m                       Traceback (most recent call last)",
      "\u001b[1;32m<ipython-input-33-30c92ab96d75>\u001b[0m in \u001b[0;36m<module>\u001b[1;34m\u001b[0m\n\u001b[0;32m      1\u001b[0m \u001b[1;31m# For your convenience, you can run this cell to run all the tests at once!\u001b[0m\u001b[1;33m\u001b[0m\u001b[1;33m\u001b[0m\u001b[1;33m\u001b[0m\u001b[0m\n\u001b[0;32m      2\u001b[0m \u001b[1;32mimport\u001b[0m \u001b[0mglob\u001b[0m\u001b[1;33m\u001b[0m\u001b[1;33m\u001b[0m\u001b[0m\n\u001b[1;32m----> 3\u001b[1;33m \u001b[1;32mfrom\u001b[0m \u001b[0mgofer\u001b[0m\u001b[1;33m.\u001b[0m\u001b[0mok\u001b[0m \u001b[1;32mimport\u001b[0m \u001b[0mgrade_notebook\u001b[0m\u001b[1;33m\u001b[0m\u001b[1;33m\u001b[0m\u001b[0m\n\u001b[0m\u001b[0;32m      4\u001b[0m \u001b[1;32mif\u001b[0m \u001b[1;32mnot\u001b[0m \u001b[0mglobals\u001b[0m\u001b[1;33m(\u001b[0m\u001b[1;33m)\u001b[0m\u001b[1;33m.\u001b[0m\u001b[0mget\u001b[0m\u001b[1;33m(\u001b[0m\u001b[1;34m'__GOFER_GRADER__'\u001b[0m\u001b[1;33m,\u001b[0m \u001b[1;32mFalse\u001b[0m\u001b[1;33m)\u001b[0m\u001b[1;33m:\u001b[0m\u001b[1;33m\u001b[0m\u001b[1;33m\u001b[0m\u001b[0m\n\u001b[0;32m      5\u001b[0m     \u001b[0mdisplay\u001b[0m\u001b[1;33m(\u001b[0m\u001b[0mgrade_notebook\u001b[0m\u001b[1;33m(\u001b[0m\u001b[1;34m'lab04.ipynb'\u001b[0m\u001b[1;33m,\u001b[0m \u001b[0msorted\u001b[0m\u001b[1;33m(\u001b[0m\u001b[0mglob\u001b[0m\u001b[1;33m.\u001b[0m\u001b[0mglob\u001b[0m\u001b[1;33m(\u001b[0m\u001b[1;34m'tests/q*.py'\u001b[0m\u001b[1;33m)\u001b[0m\u001b[1;33m)\u001b[0m\u001b[1;33m)\u001b[0m\u001b[1;33m)\u001b[0m\u001b[1;33m\u001b[0m\u001b[1;33m\u001b[0m\u001b[0m\n",
      "\u001b[1;31mModuleNotFoundError\u001b[0m: No module named 'gofer'"
     ]
    }
   ],
   "source": [
    "# For your convenience, you can run this cell to run all the tests at once!\n",
    "#import glob\n",
    "#from gofer.ok import grade_notebook\n",
    "#if not globals().get('__GOFER_GRADER__', False):\n",
    "#    display(grade_notebook('lab04.ipynb', sorted(glob.glob('tests/q*.py'))))"
   ]
  }
 ],
 "metadata": {
  "course": "8x-audit",
  "kernelspec": {
   "display_name": "Python 3",
   "language": "python",
   "name": "python3"
  },
  "lab": "lab04",
  "language_info": {
   "codemirror_mode": {
    "name": "ipython",
    "version": 3
   },
   "file_extension": ".py",
   "mimetype": "text/x-python",
   "name": "python",
   "nbconvert_exporter": "python",
   "pygments_lexer": "ipython3",
   "version": "3.7.4"
  },
  "section": "2"
 },
 "nbformat": 4,
 "nbformat_minor": 1
}
